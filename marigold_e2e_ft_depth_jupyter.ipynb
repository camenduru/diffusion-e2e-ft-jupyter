{
  "cells": [
    {
      "cell_type": "markdown",
      "metadata": {
        "id": "view-in-github"
      },
      "source": [
        "[![Open In Colab](https://colab.research.google.com/assets/colab-badge.svg)](https://colab.research.google.com/github/camenduru/diffusion-e2e-ft-jupyter/blob/main/marigold_e2e_ft_depth_jupyter.ipynb)"
      ]
    },
    {
      "cell_type": "code",
      "execution_count": null,
      "metadata": {
        "id": "VjYy0F2gZIPR"
      },
      "outputs": [],
      "source": [
        "%cd /content\n",
        "!git clone https://github.com/camenduru/marigold-e2e-ft-depth-hf\n",
        "%cd /content/marigold-e2e-ft-depth-hf\n",
        "\n",
        "!pip -q install diffusers"
      ]
    },
    {
      "cell_type": "code",
      "execution_count": null,
      "metadata": {},
      "outputs": [],
      "source": [
        "import numpy as np\n",
        "import os\n",
        "from PIL import Image\n",
        "import torch\n",
        "\n",
        "from Marigold.marigold import MarigoldPipeline\n",
        "from diffusers import AutoencoderKL, DDIMScheduler, UNet2DConditionModel\n",
        "from transformers import CLIPTextModel, CLIPTokenizer\n",
        "\n",
        "checkpoint_path = \"GonzaloMG/marigold-e2e-ft-depth\"\n",
        "\n",
        "dtype = torch.float32\n",
        "variant = None\n",
        "unet         = UNet2DConditionModel.from_pretrained(checkpoint_path, subfolder=\"unet\")   \n",
        "vae          = AutoencoderKL.from_pretrained(checkpoint_path, subfolder=\"vae\")  \n",
        "text_encoder = CLIPTextModel.from_pretrained(checkpoint_path, subfolder=\"text_encoder\")  \n",
        "tokenizer    = CLIPTokenizer.from_pretrained(checkpoint_path, subfolder=\"tokenizer\") \n",
        "scheduler    = DDIMScheduler.from_pretrained(checkpoint_path, timestep_spacing=\"trailing\", subfolder=\"scheduler\") \n",
        "pipe = MarigoldPipeline.from_pretrained(pretrained_model_name_or_path = checkpoint_path,\n",
        "                                        unet=unet, \n",
        "                                        vae=vae, \n",
        "                                        scheduler=scheduler, \n",
        "                                        text_encoder=text_encoder, \n",
        "                                        tokenizer=tokenizer, \n",
        "                                        variant=variant, \n",
        "                                        torch_dtype=dtype, \n",
        "                                        )\n",
        "pipe = pipe.to('cuda')\n",
        "pipe.unet.eval()\n",
        "  \n",
        "def predict_depth(image, processing_res_choice):\n",
        "    with torch.no_grad():\n",
        "        pipe_out = pipe(image, denoising_steps=1, ensemble_size=1, noise=\"zeros\", normals=False, processing_res=processing_res_choice, match_input_res=True)\n",
        "    pred = pipe_out.depth_np\n",
        "    pred_colored = pipe_out.depth_colored\n",
        "    return pred, pred_colored\n",
        "\n",
        "processing_res_choice = 768\n",
        "image = Image.open(\"/content/marigold-e2e-ft-depth-hf/assets/examples/bottles.jpg\").convert('RGB')\n",
        "image_array = np.array(image).astype('uint8')\n",
        "pil_image = Image.fromarray(image_array)\n",
        "\n",
        "depth_npy, depth_colored = predict_depth(pil_image, processing_res_choice)\n",
        "depth_colored"
      ]
    }
  ],
  "metadata": {
    "accelerator": "GPU",
    "colab": {
      "gpuType": "T4",
      "provenance": []
    },
    "kernelspec": {
      "display_name": "Python 3",
      "name": "python3"
    },
    "language_info": {
      "name": "python"
    }
  },
  "nbformat": 4,
  "nbformat_minor": 0
}
