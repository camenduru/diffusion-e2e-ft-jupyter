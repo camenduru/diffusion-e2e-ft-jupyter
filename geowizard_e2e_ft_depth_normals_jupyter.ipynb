{
  "cells": [
    {
      "cell_type": "markdown",
      "metadata": {
        "id": "view-in-github"
      },
      "source": [
        "[![Open In Colab](https://colab.research.google.com/assets/colab-badge.svg)](https://colab.research.google.com/github/camenduru/diffusion-e2e-ft-jupyter/blob/main/geowizard_e2e_ft_depth_normals_jupyter.ipynb)"
      ]
    },
    {
      "cell_type": "code",
      "execution_count": null,
      "metadata": {
        "id": "VjYy0F2gZIPR"
      },
      "outputs": [],
      "source": [
        "!pip -q install diffusers xformers==0.0.28.post1\n",
        "\n",
        "%cd /content\n",
        "!git clone https://github.com/camenduru/geowizard-e2e-ft-hf\n",
        "%cd /content/geowizard-e2e-ft-hf"
      ]
    },
    {
      "cell_type": "code",
      "execution_count": null,
      "metadata": {},
      "outputs": [],
      "source": [
        "import cv2\n",
        "import numpy as np\n",
        "from PIL import Image\n",
        "import torch\n",
        "\n",
        "from GeoWizard.geowizard.models.geowizard_pipeline import DepthNormalEstimationPipeline\n",
        "from GeoWizard.geowizard.models.unet_2d_condition import UNet2DConditionModel\n",
        "from diffusers import DDIMScheduler, AutoencoderKL\n",
        "from transformers import CLIPImageProcessor, CLIPVisionModelWithProjection\n",
        "\n",
        "checkpoint_path = \"GonzaloMG/geowizard-e2e-ft\"\n",
        "vae = AutoencoderKL.from_pretrained(checkpoint_path, subfolder='vae')\n",
        "scheduler = DDIMScheduler.from_pretrained(checkpoint_path, timestep_spacing=\"trailing\", subfolder='scheduler')\n",
        "image_encoder = CLIPVisionModelWithProjection.from_pretrained(checkpoint_path, subfolder=\"image_encoder\")\n",
        "feature_extractor = CLIPImageProcessor.from_pretrained(checkpoint_path, subfolder=\"feature_extractor\")\n",
        "unet = UNet2DConditionModel.from_pretrained(checkpoint_path, subfolder=\"unet\")\n",
        "pipe = DepthNormalEstimationPipeline(vae=vae, image_encoder=image_encoder, feature_extractor=feature_extractor, unet=unet, scheduler=scheduler)\n",
        "pipe = pipe.to('cuda')\n",
        "pipe.unet.eval()\n",
        "\n",
        "def predict(image, processing_res_choice):\n",
        "    with torch.no_grad():\n",
        "        pipe_out = pipe(image, denoising_steps=1, ensemble_size=1, noise=\"zeros\", processing_res=processing_res_choice, match_input_res=True)\n",
        "    depth_pred = pipe_out.depth_np\n",
        "    depth_colored = pipe_out.depth_colored\n",
        "    normal_pred = pipe_out.normal_np\n",
        "    normal_colored = pipe_out.normal_colored\n",
        "    return depth_pred, depth_colored, normal_pred, normal_colored\n",
        "  \n",
        "processing_res_choice = 768\n",
        "image = Image.open(\"/content/geowizard-e2e-ft/assets/examples/bottles.jpg\").convert('RGB')\n",
        "image_array = np.array(image).astype('uint8')\n",
        "pil_image = Image.fromarray(image_array)\n",
        "depth_pred, depth_colored, normal_pred, normal_colored = predict(pil_image, processing_res_choice)"
      ]
    },
    {
      "cell_type": "code",
      "execution_count": null,
      "metadata": {},
      "outputs": [],
      "source": [
        "depth_colored"
      ]
    },
    {
      "cell_type": "code",
      "execution_count": null,
      "metadata": {},
      "outputs": [],
      "source": [
        "normal_colored"
      ]
    }
  ],
  "metadata": {
    "accelerator": "GPU",
    "colab": {
      "gpuType": "T4",
      "provenance": []
    },
    "kernelspec": {
      "display_name": "Python 3",
      "name": "python3"
    },
    "language_info": {
      "name": "python"
    }
  },
  "nbformat": 4,
  "nbformat_minor": 0
}
